{
 "cells": [
  {
   "cell_type": "code",
   "execution_count": 15,
   "metadata": {},
   "outputs": [],
   "source": [
    "import pandas as pd\n",
    "import numpy as np\n",
    "import matplotlib.pyplot as plt"
   ]
  },
  {
   "cell_type": "code",
   "execution_count": 16,
   "metadata": {},
   "outputs": [],
   "source": [
    "df = pd.read_pickle('./data/cleaned.pickle')\n",
    "X = df.drop(columns='class')\n",
    "y = df['class']"
   ]
  },
  {
   "cell_type": "code",
   "execution_count": 17,
   "metadata": {},
   "outputs": [
    {
     "data": {
      "image/png": "[encoded data removed]",
      "text/plain": [
       "<Figure size 640x480 with 1 Axes>"
      ]
     },
     "metadata": {},
     "output_type": "display_data"
    }
   ],
   "source": [
    "# Label data is unbalanced -> using stratified kfold\n",
    "y.value_counts().plot(kind='bar')\n",
    "plt.show()"
   ]
  },
  {
   "cell_type": "code",
   "execution_count": 18,
   "metadata": {},
   "outputs": [],
   "source": [
    "from sklearn.model_selection import StratifiedKFold\n",
    "from sklearn.linear_model import LogisticRegression\n",
    "from sklearn.metrics import log_loss, accuracy_score\n",
    "from sklearn.tree import DecisionTreeClassifier\n",
    "from sklearn.preprocessing import StandardScaler"
   ]
  },
  {
   "cell_type": "code",
   "execution_count": 19,
   "metadata": {},
   "outputs": [],
   "source": [
    "sc_X = StandardScaler()\n",
    "sc_X.fit(X)\n",
    "X_scaled = sc_X.transform(X)"
   ]
  },
  {
   "cell_type": "code",
   "execution_count": 20,
   "metadata": {},
   "outputs": [],
   "source": [
    "kf = StratifiedKFold(n_splits=10, shuffle=False)"
   ]
  },
  {
   "cell_type": "code",
   "execution_count": 21,
   "metadata": {},
   "outputs": [
    {
     "name": "stdout",
     "output_type": "stream",
     "text": [
      "log_loss: 6.487857610041086\n",
      "accuracy: 0.82\n",
      "log_loss: 10.813096016735146\n",
      "accuracy: 0.7\n",
      "log_loss: 9.37134988117046\n",
      "accuracy: 0.74\n",
      "log_loss: 7.569167211714602\n",
      "accuracy: 0.79\n",
      "log_loss: 9.010913347279287\n",
      "accuracy: 0.75\n",
      "log_loss: 7.20873067782343\n",
      "accuracy: 0.8\n",
      "log_loss: 12.254842152299835\n",
      "accuracy: 0.66\n",
      "log_loss: 6.848294143932259\n",
      "accuracy: 0.81\n",
      "log_loss: 8.290040279496944\n",
      "accuracy: 0.77\n",
      "log_loss: 9.010913347279287\n",
      "accuracy: 0.75\n",
      "0.759\n"
     ]
    }
   ],
   "source": [
    "model = LogisticRegression(max_iter=1000)\n",
    "accuracy = []\n",
    "# model = DecisionTreeClassifier()\n",
    "for train, test in kf.split(X_scaled, y):\n",
    "    model.fit(X_scaled[train], y.iloc[train])\n",
    "    pred = model.predict(X_scaled[test])\n",
    "    acc = accuracy_score(pred, y.iloc[test])\n",
    "    print('log_loss:', log_loss(pred, y.iloc[test]))\n",
    "    print('accuracy:', acc)\n",
    "    accuracy.append(acc)\n",
    "mean_accuracy = np.mean(accuracy)\n",
    "print(mean_accuracy)"
   ]
  }
 ],
 "metadata": {
  "kernelspec": {
   "display_name": "Python 3",
   "language": "python",
   "name": "python3"
  },
  "language_info": {
   "codemirror_mode": {
    "name": "ipython",
    "version": 3
   },
   "file_extension": ".py",
   "mimetype": "text/x-python",
   "name": "python",
   "nbconvert_exporter": "python",
   "pygments_lexer": "ipython3",
   "version": "3.10.9 (main, Dec 19 2022, 17:35:49) [GCC 12.2.0]"
  },
  "orig_nbformat": 4,
  "vscode": {
   "interpreter": {
    "hash": "e7370f93d1d0cde622a1f8e1c04877d8463912d04d973331ad4851f04de6915a"
   }
  }
 },
 "nbformat": 4,
 "nbformat_minor": 2
}
