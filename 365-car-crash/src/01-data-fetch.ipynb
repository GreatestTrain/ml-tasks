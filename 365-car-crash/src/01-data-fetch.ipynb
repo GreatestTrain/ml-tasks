{
 "cells": [
  {
   "cell_type": "code",
   "execution_count": null,
   "metadata": {},
   "outputs": [],
   "source": [
    "## Library ##\n",
    "import pandas as pd\n",
    "import numpy as np\n",
    "import openml as op\n",
    "import seaborn as sns"
   ]
  },
  {
   "cell_type": "code",
   "execution_count": null,
   "metadata": {},
   "outputs": [],
   "source": [
    "## Fetch data\n",
    "dataset = op.datasets.functions.get_dataset(1092)\n",
    "data = dataset.get_data()"
   ]
  }
 ],
 "metadata": {
  "language_info": {
   "name": "python"
  },
  "orig_nbformat": 4
 },
 "nbformat": 4,
 "nbformat_minor": 2
}
