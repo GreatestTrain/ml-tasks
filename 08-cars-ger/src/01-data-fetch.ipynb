{
 "cells": [
  {
   "cell_type": "code",
   "execution_count": null,
   "id": "564795e9",
   "metadata": {},
   "outputs": [],
   "source": [
    "## Library ##\n",
    "import pandas as pd\n",
    "import numpy as np\n",
    "import openml as op\n",
    "import seaborn as sns"
   ]
  },
  {
   "cell_type": "code",
   "execution_count": null,
   "id": "23dc8e36",
   "metadata": {
    "jupyter": {
     "source_hidden": false
    }
   },
   "outputs": [],
   "source": [
    "## Fetch data\n",
    "dataset = op.datasets.functions.get_dataset(7112)\n",
    "data = dataset.get_data()"
   ]
  }
 ],
 "metadata": {
  "language_info": {
   "name": "python"
  },
  "widgets": {
   "application/vnd.jupyter.widget-state+json": {
    "state": {},
    "version_major": 2,
    "version_minor": 0
   }
  }
 },
 "nbformat": 4,
 "nbformat_minor": 2
}
